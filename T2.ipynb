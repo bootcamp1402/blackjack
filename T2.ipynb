{
 "cells": [
  {
   "cell_type": "code",
   "execution_count": 1,
   "metadata": {},
   "outputs": [],
   "source": [
    "class Deck:\n",
    "\n",
    "    def __init__(self):\n",
    "         [list(self.deck)for i in suit for j in rank and self.deck.append(Card(suit,rank))]\n",
    "            \n",
    "\n",
    "    def __str__(self):\n",
    "        deck_Computer=('')\n",
    "        for cart in self.deck:\n",
    "            deck_Computer+=card.__str__()\n",
    "        return \"The deck has: \"+deck_Computer\n",
    "        \n",
    "     \n",
    "    def shuffle(self):\n",
    "        random.shuffle(self.deck)\n",
    "        \n",
    "\n",
    "    def deal(self):\n",
    "        deal= self.deck.pop()"
   ]
  }
 ],
 "metadata": {
  "kernelspec": {
   "display_name": "Python 3",
   "language": "python",
   "name": "python3"
  },
  "language_info": {
   "codemirror_mode": {
    "name": "ipython",
    "version": 3
   },
   "file_extension": ".py",
   "mimetype": "text/x-python",
   "name": "python",
   "nbconvert_exporter": "python",
   "pygments_lexer": "ipython3",
   "version": "3.10.7"
  },
  "orig_nbformat": 4
 },
 "nbformat": 4,
 "nbformat_minor": 2
}
